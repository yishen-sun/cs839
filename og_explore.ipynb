{
 "cells": [
  {
   "cell_type": "code",
   "execution_count": 2,
   "metadata": {},
   "outputs": [
    {
     "name": "stdout",
     "output_type": "stream",
     "text": [
      "(6807, 5)\n"
     ]
    }
   ],
   "source": [
    "import pandas as pd\n",
    "import json\n",
    "\n",
    "path = './train.json' \n",
    "with open(path, 'r') as file:\n",
    "    data = json.load(file)\n",
    "    # Convert the loaded JSON data into a pandas DataFrame\n",
    "    df = pd.DataFrame(data)\n",
    "\n",
    "print(df.shape)"
   ]
  },
  {
   "cell_type": "code",
   "execution_count": 1,
   "metadata": {},
   "outputs": [
    {
     "name": "stdout",
     "output_type": "stream",
     "text": [
      "      document                                          full_text  \\\n",
      "0            7  Design Thinking for innovation reflexion-Avril...   \n",
      "1           10  Diego Estrada\\n\\nDesign Thinking Assignment\\n\\...   \n",
      "2           16  Reporting process\\n\\nby Gilberto Gamboa\\n\\nCha...   \n",
      "3           20  Design Thinking for Innovation\\n\\nSindy Samaca...   \n",
      "4           56  Assignment:  Visualization Reflection  Submitt...   \n",
      "...        ...                                                ...   \n",
      "6802     22678  EXAMPLE – JOURNEY MAP\\n\\nTHE CHALLENGE    My w...   \n",
      "6803     22679  Why Mind Mapping?\\n\\nMind maps are graphical r...   \n",
      "6804     22681  Challenge\\n\\nSo, a few months back, I had chos...   \n",
      "6805     22684  Brainstorming\\n\\nChallenge & Selection\\n\\nBrai...   \n",
      "6806     22687  Mind Mapping\\n\\nChallenge\\n\\nMy consulting tea...   \n",
      "\n",
      "                                                 tokens  \\\n",
      "0     [Design, Thinking, for, innovation, reflexion,...   \n",
      "1     [Diego, Estrada, \\n\\n, Design, Thinking, Assig...   \n",
      "2     [Reporting, process, \\n\\n, by, Gilberto, Gambo...   \n",
      "3     [Design, Thinking, for, Innovation, \\n\\n, Sind...   \n",
      "4     [Assignment, :,   , Visualization,  , Reflecti...   \n",
      "...                                                 ...   \n",
      "6802  [EXAMPLE, –, JOURNEY, MAP, \\n\\n, THE, CHALLENG...   \n",
      "6803  [Why, Mind, Mapping, ?, \\n\\n, Mind, maps, are,...   \n",
      "6804  [Challenge, \\n\\n, So, ,, a, few, months, back,...   \n",
      "6805  [Brainstorming, \\n\\n, Challenge, &, Selection,...   \n",
      "6806  [Mind, Mapping, \\n\\n, Challenge, \\n\\n, My, con...   \n",
      "\n",
      "                                    trailing_whitespace  \\\n",
      "0     [True, True, True, True, False, False, True, F...   \n",
      "1     [True, False, False, True, True, False, False,...   \n",
      "2     [True, False, False, True, True, False, False,...   \n",
      "3     [True, True, True, False, False, True, False, ...   \n",
      "4     [False, False, False, False, False, False, Fal...   \n",
      "...                                                 ...   \n",
      "6802  [True, True, True, False, False, True, True, F...   \n",
      "6803  [True, True, False, False, False, True, True, ...   \n",
      "6804  [False, False, False, True, True, True, True, ...   \n",
      "6805  [False, False, True, True, False, False, True,...   \n",
      "6806  [True, False, False, False, False, True, True,...   \n",
      "\n",
      "                                                 labels  \n",
      "0     [O, O, O, O, O, O, O, O, O, B-NAME_STUDENT, I-...  \n",
      "1     [B-NAME_STUDENT, I-NAME_STUDENT, O, O, O, O, O...  \n",
      "2     [O, O, O, O, B-NAME_STUDENT, I-NAME_STUDENT, O...  \n",
      "3     [O, O, O, O, O, B-NAME_STUDENT, I-NAME_STUDENT...  \n",
      "4     [O, O, O, O, O, O, O, O, O, O, O, O, B-NAME_ST...  \n",
      "...                                                 ...  \n",
      "6802  [O, O, O, O, O, O, O, O, O, O, O, O, O, O, O, ...  \n",
      "6803  [O, O, O, O, O, O, O, O, O, O, O, O, O, O, O, ...  \n",
      "6804  [O, O, O, O, O, O, O, O, O, O, O, O, O, O, O, ...  \n",
      "6805  [O, O, O, O, O, O, O, O, O, O, O, O, O, O, O, ...  \n",
      "6806  [O, O, O, O, O, O, O, O, O, O, O, O, O, O, O, ...  \n",
      "\n",
      "[6807 rows x 5 columns]\n"
     ]
    }
   ],
   "source": [
    "import pandas as pd\n",
    "import json\n",
    "\n",
    "path = './train.json' \n",
    "with open(path, 'r') as file:\n",
    "    data = json.load(file)\n",
    "    # Convert the loaded JSON data into a pandas DataFrame\n",
    "    df = pd.DataFrame(data)\n",
    "\n",
    "print(df)"
   ]
  },
  {
   "cell_type": "code",
   "execution_count": null,
   "metadata": {},
   "outputs": [],
   "source": []
  }
 ],
 "metadata": {
  "kernelspec": {
   "display_name": "pii_detection",
   "language": "python",
   "name": "python3"
  },
  "language_info": {
   "codemirror_mode": {
    "name": "ipython",
    "version": 3
   },
   "file_extension": ".py",
   "mimetype": "text/x-python",
   "name": "python",
   "nbconvert_exporter": "python",
   "pygments_lexer": "ipython3",
   "version": "3.9.19"
  }
 },
 "nbformat": 4,
 "nbformat_minor": 2
}
